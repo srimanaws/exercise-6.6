{
 "cells": [
  {
   "cell_type": "code",
   "execution_count": 1,
   "id": "43bb25ab-84f5-479f-ab34-af75ab230db1",
   "metadata": {},
   "outputs": [
    {
     "name": "stdout",
     "output_type": "stream",
     "text": [
      "Unique words in alphabetical order:\n",
      "brown\n",
      "dog\n",
      "fox\n",
      "jumps\n",
      "lazy\n",
      "over\n",
      "quick\n",
      "the\n",
      "\n",
      "Unique words in alphabetical order:\n",
      "hello\n",
      "world\n",
      "\n",
      "Unique words in alphabetical order:\n",
      "and\n",
      "fun\n",
      "is\n",
      "powerful\n",
      "programming\n",
      "python\n"
     ]
    }
   ],
   "source": [
    "#Exercise 6.6 by sriman\n",
    "def show_unique_words(words):\n",
    "    # First, let's make everything lowercase so words like \"Hello\" and \"hello\" are the same\n",
    "    lowercase_words = [word.lower() for word in words]\n",
    "    \n",
    "    # Now, we'll throw all the words into a set. This automatically gets rid of duplicates.\n",
    "    unique_words = set(lowercase_words)\n",
    "    \n",
    "    # Sort the unique words so they appear in alphabetical order\n",
    "    sorted_words = sorted(unique_words)\n",
    "    \n",
    "    # Now let’s show them off\n",
    "    print(\"Unique words in alphabetical order:\")\n",
    "    for word in sorted_words:\n",
    "        print(word)\n",
    "\n",
    "# Test the function with some example sentences\n",
    "sentence1 = \"The quick brown fox jumps over the lazy dog\"\n",
    "sentence2 = \"Hello World HELLO world\"\n",
    "sentence3 = \"Python programming is fun and Python is powerful\"\n",
    "\n",
    "# Split each sentence into a list of words and show the unique ones\n",
    "show_unique_words(sentence1.split())\n",
    "print()  # Just adding some space between outputs\n",
    "show_unique_words(sentence2.split())\n",
    "print()\n",
    "show_unique_words(sentence3.split())\n"
   ]
  },
  {
   "cell_type": "code",
   "execution_count": null,
   "id": "284fd7d4-f50d-4391-9a8b-8d04b8c64d05",
   "metadata": {},
   "outputs": [],
   "source": []
  }
 ],
 "metadata": {
  "kernelspec": {
   "display_name": "Python 3 (ipykernel)",
   "language": "python",
   "name": "python3"
  },
  "language_info": {
   "codemirror_mode": {
    "name": "ipython",
    "version": 3
   },
   "file_extension": ".py",
   "mimetype": "text/x-python",
   "name": "python",
   "nbconvert_exporter": "python",
   "pygments_lexer": "ipython3",
   "version": "3.12.4"
  }
 },
 "nbformat": 4,
 "nbformat_minor": 5
}
